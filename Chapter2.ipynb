{
  "nbformat": 4,
  "nbformat_minor": 0,
  "metadata": {
    "colab": {
      "name": "Chapter2.ipynb",
      "version": "0.3.2",
      "provenance": [],
      "include_colab_link": true
    },
    "kernelspec": {
      "name": "python3",
      "display_name": "Python 3"
    }
  },
  "cells": [
    {
      "cell_type": "markdown",
      "metadata": {
        "id": "view-in-github",
        "colab_type": "text"
      },
      "source": [
        "<a href=\"https://colab.research.google.com/github/naomori/codexa_SVM/blob/master/Chapter2.ipynb\" target=\"_parent\"><img src=\"https://colab.research.google.com/assets/colab-badge.svg\" alt=\"Open In Colab\"/></a>"
      ]
    },
    {
      "cell_type": "markdown",
      "metadata": {
        "id": "CexX9yZzl4i3",
        "colab_type": "text"
      },
      "source": [
        "# Section.1-2: SVMとは？＋SVMの仕組み\n",
        "\n",
        "SVM は「分類」問題に対して非常に優れている。\n",
        "\n",
        "* Mergin: 道幅\n",
        "* Support Vector: 最も隣接するデータポイント\n",
        "* Hyper Plain: 境界線\n",
        "\n",
        "SVMとは、データを最も適切に分け隔てる「Hyper Plain」を  \n",
        "「Support Vector」から最も遠くなる距離で導き出すことで最適な分類を行う手法。\n",
        "\n",
        "あるいは、「Mergin」の最大化を行う手法とも言える。"
      ]
    },
    {
      "cell_type": "markdown",
      "metadata": {
        "id": "XNgLdOs_l4aD",
        "colab_type": "text"
      },
      "source": [
        "# Section.3: SVM の Hyper Parameter\n",
        "\n",
        "理解しておくべき重要な Hyper Parameter は以下の４つ\n",
        "\n",
        "* C (C-parameter)\n",
        "* decision_function_shape\n",
        "* kernel\n",
        "* gamma\n"
      ]
    },
    {
      "cell_type": "markdown",
      "metadata": {
        "id": "bQ4WCuS7nwgH",
        "colab_type": "text"
      },
      "source": [
        "## C-parameter\n",
        "\n",
        "C-parameter は SVM モデルに対して、「分類ミスをどのくらい許容するか設定する値」。\n",
        "\n",
        "* C-parameter が低い状態を「ソフトマージン」\n",
        "* C-parameter が高い状態を「ハードマージン」"
      ]
    },
    {
      "cell_type": "markdown",
      "metadata": {
        "id": "9wWoAauHo33O",
        "colab_type": "text"
      },
      "source": [
        "## decision_function_shape (多項分類)\n",
        "\n",
        "SVM が多項分類の Hyper Plain を導く挙動を設定するのが\n",
        "「decision_function_shape」。\n",
        "\n",
        "設定する値は 「OVR」「OVO」の２つだけ。Scikit-learn でのデフォルトは「OVR」の方。\n",
        "\n",
        "## One Vs Rest (OVR): １対他分類法\n",
        "\n",
        "OVRでは１つの分類クラスと「他のすべての分類クラス」で hyper plain を導き出す。\n",
        "これをすべてのクラスに対して行う。\n",
        "\n",
        "OVRのメリットはSVMが構築するモデルの数が少なくてすむこと。\n",
        "Nクラスの分類ならば、N-1のモデル数で良い。\n",
        "\n",
        "## One Vs One (OVO): １対１分類法\n",
        "\n",
        "OVOでは、各クラスと「別の１クラスごと」に Hyper Plain を導き出す。\n",
        "\n",
        "OVOのデメリットは、全てのクラスごとにモデルを構築するために、\n",
        "非常に高負荷な計算処理となる場合が多いこと。\n",
        "Nクラスの分類ならば、$\\frac{N(N-1)}{2}$ となる。"
      ]
    },
    {
      "cell_type": "markdown",
      "metadata": {
        "id": "2k0-ZfODtGou",
        "colab_type": "text"
      },
      "source": [
        "## Kernel（カーネル法）\n",
        "\n",
        "Kernel は「データに新たな次元を追加して Hyper Plain を導き出す仕組み」です。\n",
        "\n",
        "Scikit-learn で実装可能な Kernel の種類の一部を以下に示す。\n",
        "\n",
        "* Radial Basis Function Kernel (RBFK)\n",
        "* Linear\n",
        "* Poly\n",
        "\n",
        "\n"
      ]
    },
    {
      "cell_type": "markdown",
      "metadata": {
        "id": "vg0AZZYwu3Pa",
        "colab_type": "text"
      },
      "source": [
        "## Gamma（ガンマ）\n",
        "\n",
        "Gamma は「モデルが訓練データへどれくらいフィットさせるかを調整する値」です。\n",
        "\n",
        "Gamma の値が高ければ高いほど、訓練データに対してフィットする。\n",
        "つまり、値が小さいと分類はシンプルになり、高いと複雑な分類を行う。\n",
        "\n",
        "ただし、高くしすぎると「過学習」となる傾向になる。"
      ]
    },
    {
      "cell_type": "code",
      "metadata": {
        "id": "-lZOxZzAlpH4",
        "colab_type": "code",
        "colab": {}
      },
      "source": [
        ""
      ],
      "execution_count": 0,
      "outputs": []
    }
  ]
}