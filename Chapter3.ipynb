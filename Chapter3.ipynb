{
  "nbformat": 4,
  "nbformat_minor": 0,
  "metadata": {
    "colab": {
      "name": "Chapter3.ipynb",
      "version": "0.3.2",
      "provenance": [],
      "include_colab_link": true
    },
    "kernelspec": {
      "name": "python3",
      "display_name": "Python 3"
    }
  },
  "cells": [
    {
      "cell_type": "markdown",
      "metadata": {
        "id": "view-in-github",
        "colab_type": "text"
      },
      "source": [
        "<a href=\"https://colab.research.google.com/github/naomori/codexa_SVM/blob/master/Chapter3.ipynb\" target=\"_parent\"><img src=\"https://colab.research.google.com/assets/colab-badge.svg\" alt=\"Open In Colab\"/></a>"
      ]
    },
    {
      "cell_type": "markdown",
      "metadata": {
        "id": "irHpfuk6wGkk",
        "colab_type": "text"
      },
      "source": [
        "# Section.2: 必要なライブラリのインポート"
      ]
    },
    {
      "cell_type": "code",
      "metadata": {
        "id": "MFjLyEIuv8wK",
        "colab_type": "code",
        "colab": {}
      },
      "source": [
        "# ライブラリのインポート\n",
        "import pandas as pd\n",
        "import sklearn\n",
        "from sklearn import datasets\n",
        "from sklearn.model_selection import train_test_split\n",
        "from sklearn.preprocessing import StandardScaler\n",
        "from sklearn import svm\n",
        "from sklearn.metrics import confusion_matrix \n",
        "from sklearn.metrics import accuracy_score"
      ],
      "execution_count": 0,
      "outputs": []
    },
    {
      "cell_type": "code",
      "metadata": {
        "id": "IPwRWSgPwK1S",
        "colab_type": "code",
        "colab": {
          "base_uri": "https://localhost:8080/",
          "height": 50
        },
        "outputId": "936d31e2-3731-4b4c-9647-549f124c2f10"
      },
      "source": [
        "print(pd.__version__)\n",
        "print(sklearn.__version__)"
      ],
      "execution_count": 2,
      "outputs": [
        {
          "output_type": "stream",
          "text": [
            "0.24.2\n",
            "0.21.3\n"
          ],
          "name": "stdout"
        }
      ]
    },
    {
      "cell_type": "markdown",
      "metadata": {
        "id": "tPwmDKPBwOEi",
        "colab_type": "text"
      },
      "source": [
        "# Section.3: データの読み込み"
      ]
    },
    {
      "cell_type": "code",
      "metadata": {
        "id": "xAKHNJ6SwMao",
        "colab_type": "code",
        "colab": {
          "base_uri": "https://localhost:8080/",
          "height": 34
        },
        "outputId": "b813d51d-42e5-44fa-9cf0-baa0823c4eb5"
      },
      "source": [
        "# アイリスデータセットの読み込み\n",
        "iris = datasets.load_iris()\n",
        "\n",
        "# データ型の確認\n",
        "type(iris)"
      ],
      "execution_count": 3,
      "outputs": [
        {
          "output_type": "execute_result",
          "data": {
            "text/plain": [
              "sklearn.utils.Bunch"
            ]
          },
          "metadata": {
            "tags": []
          },
          "execution_count": 3
        }
      ]
    },
    {
      "cell_type": "code",
      "metadata": {
        "id": "88rw0iOdwRKe",
        "colab_type": "code",
        "colab": {
          "base_uri": "https://localhost:8080/",
          "height": 195
        },
        "outputId": "e5e4124a-cbe5-40cc-893d-fe0c9fb7029d"
      },
      "source": [
        "# データフレームへ変換\n",
        "irisdf = pd.DataFrame(iris.data, columns = iris.feature_names)\n",
        "irisdf['target'] = iris.target\n",
        "\n",
        "# 確認のため最初の5行を表示\n",
        "irisdf.head()"
      ],
      "execution_count": 4,
      "outputs": [
        {
          "output_type": "execute_result",
          "data": {
            "text/html": [
              "<div>\n",
              "<style scoped>\n",
              "    .dataframe tbody tr th:only-of-type {\n",
              "        vertical-align: middle;\n",
              "    }\n",
              "\n",
              "    .dataframe tbody tr th {\n",
              "        vertical-align: top;\n",
              "    }\n",
              "\n",
              "    .dataframe thead th {\n",
              "        text-align: right;\n",
              "    }\n",
              "</style>\n",
              "<table border=\"1\" class=\"dataframe\">\n",
              "  <thead>\n",
              "    <tr style=\"text-align: right;\">\n",
              "      <th></th>\n",
              "      <th>sepal length (cm)</th>\n",
              "      <th>sepal width (cm)</th>\n",
              "      <th>petal length (cm)</th>\n",
              "      <th>petal width (cm)</th>\n",
              "      <th>target</th>\n",
              "    </tr>\n",
              "  </thead>\n",
              "  <tbody>\n",
              "    <tr>\n",
              "      <th>0</th>\n",
              "      <td>5.1</td>\n",
              "      <td>3.5</td>\n",
              "      <td>1.4</td>\n",
              "      <td>0.2</td>\n",
              "      <td>0</td>\n",
              "    </tr>\n",
              "    <tr>\n",
              "      <th>1</th>\n",
              "      <td>4.9</td>\n",
              "      <td>3.0</td>\n",
              "      <td>1.4</td>\n",
              "      <td>0.2</td>\n",
              "      <td>0</td>\n",
              "    </tr>\n",
              "    <tr>\n",
              "      <th>2</th>\n",
              "      <td>4.7</td>\n",
              "      <td>3.2</td>\n",
              "      <td>1.3</td>\n",
              "      <td>0.2</td>\n",
              "      <td>0</td>\n",
              "    </tr>\n",
              "    <tr>\n",
              "      <th>3</th>\n",
              "      <td>4.6</td>\n",
              "      <td>3.1</td>\n",
              "      <td>1.5</td>\n",
              "      <td>0.2</td>\n",
              "      <td>0</td>\n",
              "    </tr>\n",
              "    <tr>\n",
              "      <th>4</th>\n",
              "      <td>5.0</td>\n",
              "      <td>3.6</td>\n",
              "      <td>1.4</td>\n",
              "      <td>0.2</td>\n",
              "      <td>0</td>\n",
              "    </tr>\n",
              "  </tbody>\n",
              "</table>\n",
              "</div>"
            ],
            "text/plain": [
              "   sepal length (cm)  sepal width (cm)  ...  petal width (cm)  target\n",
              "0                5.1               3.5  ...               0.2       0\n",
              "1                4.9               3.0  ...               0.2       0\n",
              "2                4.7               3.2  ...               0.2       0\n",
              "3                4.6               3.1  ...               0.2       0\n",
              "4                5.0               3.6  ...               0.2       0\n",
              "\n",
              "[5 rows x 5 columns]"
            ]
          },
          "metadata": {
            "tags": []
          },
          "execution_count": 4
        }
      ]
    },
    {
      "cell_type": "code",
      "metadata": {
        "id": "QKdRALpwwUnA",
        "colab_type": "code",
        "colab": {}
      },
      "source": [
        "# 訓練データ/テストデータの分割\n",
        "train_set, test_set = train_test_split(irisdf, test_size = 0.2, random_state = 42)"
      ],
      "execution_count": 0,
      "outputs": []
    },
    {
      "cell_type": "code",
      "metadata": {
        "id": "Iuxax4gqweKK",
        "colab_type": "code",
        "colab": {}
      },
      "source": [
        "# 訓練データの特徴量/ターゲットの切り分け\n",
        "X_train = train_set.drop('target',axis=1)\n",
        "y_train = train_set['target'].copy()\n",
        "\n",
        "# テストデータの特徴量/ターゲットの切り分け\n",
        "X_test = test_set.drop('target',axis=1)\n",
        "y_test = test_set['target'].copy()"
      ],
      "execution_count": 0,
      "outputs": []
    },
    {
      "cell_type": "markdown",
      "metadata": {
        "id": "EFWX8Ffswjk-",
        "colab_type": "text"
      },
      "source": [
        "# Section.4: 正規化（Normarlization, Feature Scaling）\n",
        "\n",
        "最も一般的な２つの手法がある。\n",
        "\n",
        "* Z-core Normalization\n",
        "* min-max normalization"
      ]
    },
    {
      "cell_type": "code",
      "metadata": {
        "id": "dGBLXttXwgSL",
        "colab_type": "code",
        "colab": {}
      },
      "source": [
        "# Scikit-learnを利用して特徴量の正規化を行う\n",
        "StandardScaler = StandardScaler()\n",
        "X_train_norm = StandardScaler.fit_transform(X_train)\n",
        "X_test_norm = StandardScaler.fit_transform(X_test)"
      ],
      "execution_count": 0,
      "outputs": []
    },
    {
      "cell_type": "code",
      "metadata": {
        "id": "XsMnr1vf049E",
        "colab_type": "code",
        "colab": {
          "base_uri": "https://localhost:8080/",
          "height": 195
        },
        "outputId": "24b866d1-77ca-4da4-b7bc-16910dee8969"
      },
      "source": [
        "# 最初の5行を表示\n",
        "X_train.head()"
      ],
      "execution_count": 14,
      "outputs": [
        {
          "output_type": "execute_result",
          "data": {
            "text/html": [
              "<div>\n",
              "<style scoped>\n",
              "    .dataframe tbody tr th:only-of-type {\n",
              "        vertical-align: middle;\n",
              "    }\n",
              "\n",
              "    .dataframe tbody tr th {\n",
              "        vertical-align: top;\n",
              "    }\n",
              "\n",
              "    .dataframe thead th {\n",
              "        text-align: right;\n",
              "    }\n",
              "</style>\n",
              "<table border=\"1\" class=\"dataframe\">\n",
              "  <thead>\n",
              "    <tr style=\"text-align: right;\">\n",
              "      <th></th>\n",
              "      <th>sepal length (cm)</th>\n",
              "      <th>sepal width (cm)</th>\n",
              "      <th>petal length (cm)</th>\n",
              "      <th>petal width (cm)</th>\n",
              "    </tr>\n",
              "  </thead>\n",
              "  <tbody>\n",
              "    <tr>\n",
              "      <th>22</th>\n",
              "      <td>4.6</td>\n",
              "      <td>3.6</td>\n",
              "      <td>1.0</td>\n",
              "      <td>0.2</td>\n",
              "    </tr>\n",
              "    <tr>\n",
              "      <th>15</th>\n",
              "      <td>5.7</td>\n",
              "      <td>4.4</td>\n",
              "      <td>1.5</td>\n",
              "      <td>0.4</td>\n",
              "    </tr>\n",
              "    <tr>\n",
              "      <th>65</th>\n",
              "      <td>6.7</td>\n",
              "      <td>3.1</td>\n",
              "      <td>4.4</td>\n",
              "      <td>1.4</td>\n",
              "    </tr>\n",
              "    <tr>\n",
              "      <th>11</th>\n",
              "      <td>4.8</td>\n",
              "      <td>3.4</td>\n",
              "      <td>1.6</td>\n",
              "      <td>0.2</td>\n",
              "    </tr>\n",
              "    <tr>\n",
              "      <th>42</th>\n",
              "      <td>4.4</td>\n",
              "      <td>3.2</td>\n",
              "      <td>1.3</td>\n",
              "      <td>0.2</td>\n",
              "    </tr>\n",
              "  </tbody>\n",
              "</table>\n",
              "</div>"
            ],
            "text/plain": [
              "    sepal length (cm)  sepal width (cm)  petal length (cm)  petal width (cm)\n",
              "22                4.6               3.6                1.0               0.2\n",
              "15                5.7               4.4                1.5               0.4\n",
              "65                6.7               3.1                4.4               1.4\n",
              "11                4.8               3.4                1.6               0.2\n",
              "42                4.4               3.2                1.3               0.2"
            ]
          },
          "metadata": {
            "tags": []
          },
          "execution_count": 14
        }
      ]
    },
    {
      "cell_type": "code",
      "metadata": {
        "id": "IYIgsr7u1Ff0",
        "colab_type": "code",
        "colab": {
          "base_uri": "https://localhost:8080/",
          "height": 101
        },
        "outputId": "2b6d6b9b-a517-4249-9b70-1cdc7bf2b761"
      },
      "source": [
        "# 正規化した特徴量を確認する\n",
        "X_train_norm[0:5]"
      ],
      "execution_count": 15,
      "outputs": [
        {
          "output_type": "execute_result",
          "data": {
            "text/plain": [
              "array([[-1.47393679,  1.20365799, -1.56253475, -1.31260282],\n",
              "       [-0.13307079,  2.99237573, -1.27600637, -1.04563275],\n",
              "       [ 1.08589829,  0.08570939,  0.38585821,  0.28921757],\n",
              "       [-1.23014297,  0.75647855, -1.2187007 , -1.31260282],\n",
              "       [-1.7177306 ,  0.30929911, -1.39061772, -1.31260282]])"
            ]
          },
          "metadata": {
            "tags": []
          },
          "execution_count": 15
        }
      ]
    },
    {
      "cell_type": "code",
      "metadata": {
        "id": "XyHoscvT1IvE",
        "colab_type": "code",
        "colab": {
          "base_uri": "https://localhost:8080/",
          "height": 50
        },
        "outputId": "6b8d6b12-8d1c-40e6-d8ce-74c425e0deb8"
      },
      "source": [
        "# 正規化後のsepal length(cm）の特徴量の平均\n",
        "print(X_train_norm[:,0].mean())\n",
        "\n",
        "# 正規化後のsepal length(cm）の特徴量の標準偏差\n",
        "print(X_train_norm[:,0].std())"
      ],
      "execution_count": 16,
      "outputs": [
        {
          "output_type": "stream",
          "text": [
            "1.7541523789077474e-15\n",
            "1.0\n"
          ],
          "name": "stdout"
        }
      ]
    },
    {
      "cell_type": "markdown",
      "metadata": {
        "id": "ucHPkZri2K2B",
        "colab_type": "text"
      },
      "source": [
        "# Section.5: モデル訓練"
      ]
    },
    {
      "cell_type": "code",
      "metadata": {
        "id": "O9kFMi472G-7",
        "colab_type": "code",
        "colab": {
          "base_uri": "https://localhost:8080/",
          "height": 84
        },
        "outputId": "0330be0a-2955-4665-ec00-467ae53307d4"
      },
      "source": [
        "# SVMのモデル訓練\n",
        "clf = svm.SVC()\n",
        "clf.fit(X_train_norm, y_train)"
      ],
      "execution_count": 17,
      "outputs": [
        {
          "output_type": "execute_result",
          "data": {
            "text/plain": [
              "SVC(C=1.0, cache_size=200, class_weight=None, coef0=0.0,\n",
              "    decision_function_shape='ovr', degree=3, gamma='auto_deprecated',\n",
              "    kernel='rbf', max_iter=-1, probability=False, random_state=None,\n",
              "    shrinking=True, tol=0.001, verbose=False)"
            ]
          },
          "metadata": {
            "tags": []
          },
          "execution_count": 17
        }
      ]
    },
    {
      "cell_type": "code",
      "metadata": {
        "id": "jS9mTWUt2SyR",
        "colab_type": "code",
        "colab": {}
      },
      "source": [
        "# 訓練データを使って予測\n",
        "y_pred_train = clf.predict(X_train_norm)\n",
        "\n",
        "# テストデータを使って予測\n",
        "y_pred_test = clf.predict(X_test_norm)"
      ],
      "execution_count": 0,
      "outputs": []
    },
    {
      "cell_type": "markdown",
      "metadata": {
        "id": "zG0vxCxI2aB8",
        "colab_type": "text"
      },
      "source": [
        "# Section.6: モデル評価"
      ]
    },
    {
      "cell_type": "code",
      "metadata": {
        "id": "o-XsTR1j2Wey",
        "colab_type": "code",
        "colab": {
          "base_uri": "https://localhost:8080/",
          "height": 67
        },
        "outputId": "15d3e43d-c80c-4388-8429-a7e329ad4cd1"
      },
      "source": [
        "# 訓練データの混同行列\n",
        "confusion_matrix(y_train,y_pred_train)"
      ],
      "execution_count": 19,
      "outputs": [
        {
          "output_type": "execute_result",
          "data": {
            "text/plain": [
              "array([[40,  0,  0],\n",
              "       [ 0, 38,  3],\n",
              "       [ 0,  1, 38]])"
            ]
          },
          "metadata": {
            "tags": []
          },
          "execution_count": 19
        }
      ]
    },
    {
      "cell_type": "code",
      "metadata": {
        "id": "IyNmVATt2iUR",
        "colab_type": "code",
        "colab": {
          "base_uri": "https://localhost:8080/",
          "height": 34
        },
        "outputId": "3a7e4c74-b636-49d2-910f-63afdba3d432"
      },
      "source": [
        "# 訓練データの正解率\n",
        "accuracy_score(y_train,y_pred_train)"
      ],
      "execution_count": 20,
      "outputs": [
        {
          "output_type": "execute_result",
          "data": {
            "text/plain": [
              "0.9666666666666667"
            ]
          },
          "metadata": {
            "tags": []
          },
          "execution_count": 20
        }
      ]
    },
    {
      "cell_type": "code",
      "metadata": {
        "id": "9Xdq2cll2j8w",
        "colab_type": "code",
        "colab": {
          "base_uri": "https://localhost:8080/",
          "height": 67
        },
        "outputId": "318d7437-744a-45b4-b456-a4b0eda3d7ff"
      },
      "source": [
        "# テストデータの混同行列\n",
        "confusion_matrix(y_test,y_pred_test)"
      ],
      "execution_count": 21,
      "outputs": [
        {
          "output_type": "execute_result",
          "data": {
            "text/plain": [
              "array([[10,  0,  0],\n",
              "       [ 0,  9,  0],\n",
              "       [ 0,  1, 10]])"
            ]
          },
          "metadata": {
            "tags": []
          },
          "execution_count": 21
        }
      ]
    },
    {
      "cell_type": "code",
      "metadata": {
        "id": "mshnc0yg25bH",
        "colab_type": "code",
        "colab": {
          "base_uri": "https://localhost:8080/",
          "height": 34
        },
        "outputId": "dbb1f6f8-fc6c-4ab2-bcb2-cf569ed7ab63"
      },
      "source": [
        "# テストデータでの正解率\n",
        "accuracy_score(y_test,y_pred_test)"
      ],
      "execution_count": 22,
      "outputs": [
        {
          "output_type": "execute_result",
          "data": {
            "text/plain": [
              "0.9666666666666667"
            ]
          },
          "metadata": {
            "tags": []
          },
          "execution_count": 22
        }
      ]
    },
    {
      "cell_type": "code",
      "metadata": {
        "id": "E_o0U4tj26th",
        "colab_type": "code",
        "colab": {
          "base_uri": "https://localhost:8080/",
          "height": 50
        },
        "outputId": "d78890c1-a603-42d1-b13e-07dfb143fc2e"
      },
      "source": [
        "# テストデータの正解ラベルと予測値を確認\n",
        "print(y_test[0:10].values.T)\n",
        "print(y_pred_test[0:10])"
      ],
      "execution_count": 23,
      "outputs": [
        {
          "output_type": "stream",
          "text": [
            "[1 0 2 1 1 0 1 2 1 1]\n",
            "[1 0 2 1 1 0 1 2 1 1]\n"
          ],
          "name": "stdout"
        }
      ]
    },
    {
      "cell_type": "code",
      "metadata": {
        "id": "xFt7wauz3BhZ",
        "colab_type": "code",
        "colab": {}
      },
      "source": [
        ""
      ],
      "execution_count": 0,
      "outputs": []
    }
  ]
}